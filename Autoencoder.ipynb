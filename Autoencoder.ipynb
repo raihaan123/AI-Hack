{
  "nbformat": 4,
  "nbformat_minor": 0,
  "metadata": {
    "colab": {
      "name": "Autoencoder.ipynb",
      "provenance": [],
      "collapsed_sections": [],
      "toc_visible": true
    },
    "kernelspec": {
      "display_name": "Python 3",
      "language": "python",
      "name": "python3"
    },
    "language_info": {
      "codemirror_mode": {
        "name": "ipython",
        "version": 3
      },
      "file_extension": ".py",
      "mimetype": "text/x-python",
      "name": "python",
      "nbconvert_exporter": "python",
      "pygments_lexer": "ipython3",
      "version": "3.6.6"
    },
    "accelerator": "TPU"
  },
  "cells": [
    {
      "cell_type": "markdown",
      "metadata": {
        "id": "uIDQ3jDJObBh"
      },
      "source": [
        "# Deep Learning approach to the Boston Housing dataset - Autoencoder\r\n",
        "## Team JARL"
      ]
    },
    {
      "cell_type": "code",
      "metadata": {
        "id": "7vjRzPjZTo_f"
      },
      "source": [
        "#import libraries and load data\n",
        "import matplotlib.pyplot as plt\n",
        "import numpy as np\n",
        "import pandas as pd\n",
        "import keras\n",
        "\n",
        "from keras import regularizers, layers\n",
        "from keras.models import Model, load_model, Sequential\n",
        "from keras.layers import Input, Dense\n",
        "from keras.callbacks import ModelCheckpoint, TensorBoard\n",
        "from keras.optimizers import Adam\n",
        "from tensorflow.keras.callbacks import EarlyStopping\n",
        "from sklearn.metrics import r2_score\n",
        "from sklearn.ensemble.partial_dependence import partial_dependence, plot_partial_dependence\n",
        "\n",
        "data = pd.read_csv('boston_corrected.csv')\n",
        "data = data.sample(frac=1).reset_index(drop=True)\n",
        "\n",
        "train = data.iloc[:450,:]\n",
        "test = data.iloc[450:,:]"
      ],
      "execution_count": 1,
      "outputs": []
    },
    {
      "cell_type": "code",
      "metadata": {
        "id": "ZTSaY_I9UtO2"
      },
      "source": [
        "# Drop undesired columns\n",
        "rem = ['MEDV', 'CMEDV','TOWN','TOWNNO','TRACT']\n",
        "\n",
        "raw_X_train = train.drop(rem, axis=1)\n",
        "raw_Y_train = train['CMEDV']\n",
        "raw_X_test = test.drop(rem, axis=1)\n",
        "raw_Y_test = test['CMEDV']"
      ],
      "execution_count": 3,
      "outputs": []
    },
    {
      "cell_type": "code",
      "metadata": {
        "id": "kbbb2ixMVDRG"
      },
      "source": [
        "# Set all column types to numeric\n",
        "raw_X_train = np.asarray(raw_X_train).astype(np.float32)\n",
        "raw_X_test = np.asarray(raw_X_test).astype(np.float32)\n",
        "raw_Y_train = np.asarray(raw_Y_train).astype(np.float32)\n",
        "raw_Y_test = np.asarray(raw_Y_test).astype(np.float32)\n",
        "\n",
        "def Z_scoreNorm(data):\n",
        "    column_mean = data.mean(axis=0)\n",
        "    column_std = np.std(data, axis=0, dtype=float)\n",
        "    Normalized_Inputs = (data - column_mean)/column_std\n",
        "    \n",
        "    return Normalized_Inputs\n",
        "\n",
        "X_train = Z_scoreNorm(raw_X_train)\n",
        "X_test = Z_scoreNorm(raw_X_test)\n",
        "Y_train = Z_scoreNorm(raw_Y_train)\n",
        "Y_test = Z_scoreNorm(raw_Y_test)"
      ],
      "execution_count": 4,
      "outputs": []
    },
    {
      "cell_type": "code",
      "metadata": {
        "colab": {
          "base_uri": "https://localhost:8080/"
        },
        "id": "MQ4u9RDwVa34",
        "outputId": "9c2ad333-d451-407d-ac59-f1f2fb30cdc6"
      },
      "source": [
        "# Reality check\n",
        "print(X_train.shape)\n",
        "print(X_test.shape)"
      ],
      "execution_count": 5,
      "outputs": [
        {
          "output_type": "stream",
          "text": [
            "(450, 15)\n",
            "(56, 15)\n",
            "(450, 16)\n"
          ],
          "name": "stdout"
        }
      ]
    },
    {
      "cell_type": "code",
      "metadata": {
        "id": "csoZGK6nQxt_"
      },
      "source": [
        "early_stopping = EarlyStopping(\r\n",
        "    min_delta=0.001,\r\n",
        "    patience=100,\r\n",
        "    restore_best_weights=True,\r\n",
        ")"
      ],
      "execution_count": 6,
      "outputs": []
    },
    {
      "cell_type": "code",
      "metadata": {
        "id": "ZVRHIVurtn7Z"
      },
      "source": [
        "choke = 10\r\n",
        "\r\n",
        "autoencoder = Sequential([\r\n",
        "    Dense(X_train.shape[1], activation='relu', input_shape=(X_train.shape[1],)),\r\n",
        "    Dense(20, activation='relu'),\r\n",
        "    Dense(20, activation='relu'),\r\n",
        "    Dense(choke, activation='relu'),\r\n",
        "    Dense(20, activation='relu'),\r\n",
        "    Dense(20, activation='relu'),\r\n",
        "    Dense(X_train.shape[1])\r\n",
        "])"
      ],
      "execution_count": 7,
      "outputs": []
    },
    {
      "cell_type": "code",
      "metadata": {
        "id": "HvV2wGc1egu-"
      },
      "source": [
        "autoencoder.compile(optimizer=Adam(lr=0.01), \r\n",
        "                    loss='MSE', \r\n",
        "                    metrics=['mean_squared_error'])\r\n",
        "checkpointer_a = ModelCheckpoint(filepath=\"AE.z1\",\r\n",
        "                               verbose=0,\r\n",
        "                               save_best_only=True)\r\n",
        "history_a = autoencoder.fit(X_train, X_train,\r\n",
        "                    epochs=700,\r\n",
        "                    batch_size=450,\r\n",
        "                    shuffle=True,\r\n",
        "                    validation_data=(X_test, X_test),\r\n",
        "                    verbose=1,\r\n",
        "                    callbacks=[early_stopping, checkpointer_a]).history"
      ],
      "execution_count": null,
      "outputs": []
    },
    {
      "cell_type": "code",
      "metadata": {
        "colab": {
          "base_uri": "https://localhost:8080/",
          "height": 669
        },
        "id": "z7UCo8GwlBy3",
        "outputId": "7c32e877-5327-4a8a-86eb-67fe64df4ea3"
      },
      "source": [
        "plt.plot(history_a['loss'])\r\n",
        "plt.plot(history_a['val_loss'])\r\n",
        "plt.title('model loss')\r\n",
        "plt.ylabel('loss')\r\n",
        "plt.xlabel('epoch')\r\n",
        "plt.legend(['train', 'test'], loc='upper right');\r\n",
        "\r\n",
        "autoencoder.summary()"
      ],
      "execution_count": 11,
      "outputs": [
        {
          "output_type": "stream",
          "text": [
            "Model: \"sequential\"\n",
            "_________________________________________________________________\n",
            "Layer (type)                 Output Shape              Param #   \n",
            "=================================================================\n",
            "dense (Dense)                (None, 15)                240       \n",
            "_________________________________________________________________\n",
            "dense_1 (Dense)              (None, 20)                320       \n",
            "_________________________________________________________________\n",
            "dense_2 (Dense)              (None, 20)                420       \n",
            "_________________________________________________________________\n",
            "dense_3 (Dense)              (None, 10)                210       \n",
            "_________________________________________________________________\n",
            "dense_4 (Dense)              (None, 20)                220       \n",
            "_________________________________________________________________\n",
            "dense_5 (Dense)              (None, 20)                420       \n",
            "_________________________________________________________________\n",
            "dense_6 (Dense)              (None, 15)                315       \n",
            "=================================================================\n",
            "Total params: 2,145\n",
            "Trainable params: 2,145\n",
            "Non-trainable params: 0\n",
            "_________________________________________________________________\n"
          ],
          "name": "stdout"
        },
        {
          "output_type": "display_data",
          "data": {
            "image/png": "[encoded data removed]",
            "text/plain": [
              "<Figure size 432x288 with 1 Axes>"
            ]
          },
          "metadata": {
            "tags": [],
            "needs_background": "light"
          }
        }
      ]
    },
    {
      "cell_type": "code",
      "metadata": {
        "colab": {
          "base_uri": "https://localhost:8080/"
        },
        "id": "RxmkGm03_ogB",
        "outputId": "f2ce0133-ff23-42e7-9dbb-e4a1e5541e4c"
      },
      "source": [
        "# Reality check\r\n",
        "a = 5\r\n",
        "testinp = np.array(X_train[a,:]).reshape(1,X_train.shape[1])\r\n",
        "y = autoencoder.predict(testinp)\r\n",
        "\r\n",
        "print(np.array(X_train[a,:]))\r\n",
        "print(y)"
      ],
      "execution_count": 12,
      "outputs": [
        {
          "output_type": "stream",
          "text": [
            "[ 1.25895578  2.69573478 -0.42702645  3.30362986 -1.42925767 -0.26726126\n",
            " -1.30707499  1.3087711  -1.63190455  2.30518275 -0.51942312 -1.08616831\n",
            " -0.22406789  0.4261515  -1.08065671]\n",
            "[[ 1.1714578   2.6285663  -0.32403398  3.449032   -1.4068097  -0.22252215\n",
            "  -1.279017    0.7656801  -1.2600056   2.0380476  -0.62356174 -0.76941955\n",
            "  -0.37066987  0.7190219  -1.0265939 ]]\n"
          ],
          "name": "stdout"
        }
      ]
    },
    {
      "cell_type": "code",
      "metadata": {
        "id": "H13ttbXVsDtm"
      },
      "source": [
        "# Latent feature extraction\r\n",
        "latent_model = Model(autoencoder.input, autoencoder.get_layer(index = 3).output )\r\n",
        "\r\n",
        "latents_train = np.array([latent_model.predict(i.reshape(1, X_train.shape[1])) for i in X_train]).reshape(450, choke)\r\n",
        "latents_test = np.array([latent_model.predict(i.reshape(1, X_train.shape[1])) for i in X_test]).reshape(56, choke)"
      ],
      "execution_count": 13,
      "outputs": []
    },
    {
      "cell_type": "code",
      "metadata": {
        "id": "RHNmPcB3TRVu"
      },
      "source": [
        "valuePredictor = Sequential([\r\n",
        "    Dense(choke, activation='relu', input_shape=(choke,)),\r\n",
        "    Dense(20, activation='relu'),\r\n",
        "    Dense(20, activation='relu'),\r\n",
        "    Dense(20, activation='relu'),\r\n",
        "    Dense(10, activation='relu'),\r\n",
        "    Dense(1)\r\n",
        "])"
      ],
      "execution_count": 56,
      "outputs": []
    },
    {
      "cell_type": "code",
      "metadata": {
        "id": "UK5cGkoAWvNT"
      },
      "source": [
        "valuePredictor.compile(optimizer=Adam(lr=0.01), \r\n",
        "                    loss='MSE', \r\n",
        "                    metrics=['mean_squared_error'])\r\n",
        "checkpointer_m = ModelCheckpoint(filepath=\"valuePredictor.z1\",\r\n",
        "                              verbose=0,\r\n",
        "                              save_best_only=True)\r\n",
        "history_m = valuePredictor.fit(latents_train, Y_train,\r\n",
        "                    epochs=700,\r\n",
        "                    batch_size=450,\r\n",
        "                    shuffle=True,\r\n",
        "                    validation_data=(latents_test, Y_test),\r\n",
        "                    verbose=1, callbacks=[early_stopping, checkpointer_m]).history"
      ],
      "execution_count": null,
      "outputs": []
    },
    {
      "cell_type": "code",
      "metadata": {
        "colab": {
          "base_uri": "https://localhost:8080/",
          "height": 295
        },
        "id": "RVcs6gfjZLhh",
        "outputId": "1f75f175-fbc6-4cf6-aacc-785388679548"
      },
      "source": [
        "plt.plot(history_m['loss'])\r\n",
        "plt.plot(history_m['val_loss'])\r\n",
        "plt.title('Model loss')\r\n",
        "plt.ylabel('loss')\r\n",
        "plt.xlabel('epoch')\r\n",
        "plt.legend(['train', 'test'], loc='upper right');\r\n",
        "\r\n",
        "plt.savefig('losses_downstream.png', dpi=300)\r\n",
        "\r\n",
        "#money.summary()"
      ],
      "execution_count": 61,
      "outputs": [
        {
          "output_type": "display_data",
          "data": {
            "image/png": "[encoded data removed]",
            "text/plain": [
              "<Figure size 432x288 with 1 Axes>"
            ]
          },
          "metadata": {
            "tags": [],
            "needs_background": "light"
          }
        }
      ]
    },
    {
      "cell_type": "code",
      "metadata": {
        "id": "gA_dTmu5dxLJ"
      },
      "source": [
        "# Test\r\n",
        "Z = np.zeros((56,))\r\n",
        "for i,meh in enumerate(X_test):\r\n",
        "  testing = np.array(meh).reshape(1,X_train.shape[1])\r\n",
        "  y = latent_model.predict(testing)\r\n",
        "  z = money.predict(y)\r\n",
        "  Z[i] = z\r\n"
      ],
      "execution_count": 59,
      "outputs": []
    },
    {
      "cell_type": "code",
      "metadata": {
        "colab": {
          "base_uri": "https://localhost:8080/",
          "height": 313
        },
        "id": "dJ0q7xYrmuQs",
        "outputId": "59b8f6c0-5793-495d-c77d-747f2a7859a5"
      },
      "source": [
        "plt.scatter(Z, Y_test, color='r', s=5)\r\n",
        "plt.plot(Y_test,Y_test)\r\n",
        "plt.xlabel(\"True prices (Normalised)\")\r\n",
        "plt.ylabel(\"Predicted prices (Normalised)\")\r\n",
        "\r\n",
        "plt.savefig('predictions.png', dpi=300)\r\n",
        "\r\n",
        "print(np.sqrt((Y_test - Z)**2).mean(axis=None))\r\n",
        "r2_score(Y_test, Z)"
      ],
      "execution_count": 67,
      "outputs": [
        {
          "output_type": "stream",
          "text": [
            "0.26670922111121137\n"
          ],
          "name": "stdout"
        },
        {
          "output_type": "execute_result",
          "data": {
            "text/plain": [
              "0.8759744597716442"
            ]
          },
          "metadata": {
            "tags": []
          },
          "execution_count": 67
        },
        {
          "output_type": "display_data",
          "data": {
            "image/png": "[encoded data removed]",
            "text/plain": [
              "<Figure size 432x288 with 1 Axes>"
            ]
          },
          "metadata": {
            "tags": [],
            "needs_background": "light"
          }
        }
      ]
    }
  ]
}